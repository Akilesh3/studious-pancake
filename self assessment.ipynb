{
 "cells": [
  {
   "cell_type": "code",
   "execution_count": 78,
   "id": "a2a37184",
   "metadata": {},
   "outputs": [
    {
     "name": "stdout",
     "output_type": "stream",
     "text": [
      "[1, 4, 8, 9, 10, 11, 12, 13, 14, 15, 16, 17, 18, 19, 20, 21, 34, 35, 36, 37, 38, 39, 40, 41, 42, 43, 44, 45, 46, 47, 48, 49, 50, 51, 52, 53, 54, 55, 93, 94, 95, 96, 97, 98, 99, 100]\n"
     ]
    }
   ],
   "source": [
    "#question 1 - missing number of a given integer array from 1-100\n",
    "\n",
    "n = 100\n",
    "arr1 = []\n",
    "arr2 = [2,5,6,7,3,56, 57, 58, 59, 60, 61, 62, 63, 64, 65, 66, 67,\n",
    "        68, 69, 70, 71, 72, 73, 74, 75, 76, 77, 78, 79, 80, 81,\n",
    "        82, 83, 84, 85, 86, 87, 88, 89, 90, 91, 92, 22, 23, 24, 25, 26, 27, 28, 29, 30, 31, 32, 33, ]\n",
    "result = []\n",
    "for i in range (1,n+1):\n",
    "    arr1.append(i)   \n",
    "for i in arr1:\n",
    "    if i in arr2:\n",
    "        continue\n",
    "    else:\n",
    "        result.append(i)\n",
    "print(result) "
   ]
  },
  {
   "cell_type": "code",
   "execution_count": 2,
   "id": "5996b140",
   "metadata": {},
   "outputs": [
    {
     "name": "stdout",
     "output_type": "stream",
     "text": [
      "[1, 5, 3, 6, 4]\n"
     ]
    }
   ],
   "source": [
    "#question 2 - duplicate number in a integer array\n",
    "\n",
    "list1 = [1,5,3,6,3,4]\n",
    "list2 = []\n",
    "for i in list1:\n",
    "    if i not in list2:\n",
    "        list2.append(i)\n",
    "print(list2) "
   ]
  },
  {
   "cell_type": "code",
   "execution_count": 5,
   "id": "89acfdbe",
   "metadata": {},
   "outputs": [
    {
     "name": "stdout",
     "output_type": "stream",
     "text": [
      "2 9\n"
     ]
    }
   ],
   "source": [
    "#question 3 - min and max number in a unsorted array\n",
    "\n",
    "a = [5,3,7,2,9]\n",
    "for i in range(len(a)-1):\n",
    "    if a[i] > a[i+1]:\n",
    "        max = a[i]\n",
    "        min = a[i+1]\n",
    "    else:\n",
    "        max = a[i+1]\n",
    "        min = a[i]   \n",
    "print(min,max) "
   ]
  },
  {
   "cell_type": "code",
   "execution_count": 6,
   "id": "633a6546",
   "metadata": {},
   "outputs": [
    {
     "name": "stdout",
     "output_type": "stream",
     "text": [
      "18 6\n",
      "21 3\n",
      "6 18\n",
      "3 21\n"
     ]
    }
   ],
   "source": [
    "#question 4 - pairs of integer array whose sum is equal to a given number\n",
    "\n",
    "n = 24\n",
    "arr = [18,21,6,9,3,5]\n",
    "for i in arr:\n",
    "    for j in arr:\n",
    "        if i+j == 24:\n",
    "            print(i,j)\n",
    "        else:\n",
    "            continue"
   ]
  },
  {
   "cell_type": "code",
   "execution_count": 7,
   "id": "263aeeec",
   "metadata": {},
   "outputs": [
    {
     "name": "stdout",
     "output_type": "stream",
     "text": [
      "3\n"
     ]
    }
   ],
   "source": [
    "#question 5 - duplicate number in a array if contains multiple duplicates\n",
    "\n",
    "list1 = [1,5,3,6,3,4]\n",
    "result = []\n",
    "for i in list1:\n",
    "    if i not in result:\n",
    "        result.append(i)\n",
    "    else:\n",
    "        print(i)"
   ]
  },
  {
   "cell_type": "code",
   "execution_count": 79,
   "id": "0a41e07a",
   "metadata": {},
   "outputs": [],
   "source": [
    "#question 6x - duplicates removed from a given array in java\n",
    "\n"
   ]
  },
  {
   "cell_type": "code",
   "execution_count": null,
   "id": "26eb3ed1",
   "metadata": {},
   "outputs": [],
   "source": [
    "#question 7x - sorting of integer array using quick sort\n",
    "\n"
   ]
  },
  {
   "cell_type": "code",
   "execution_count": null,
   "id": "d1416e8c",
   "metadata": {},
   "outputs": [],
   "source": [
    "#question 8x - remove duplicates from an array in place\n",
    "\n"
   ]
  },
  {
   "cell_type": "code",
   "execution_count": 8,
   "id": "cec4d727",
   "metadata": {},
   "outputs": [
    {
     "name": "stdout",
     "output_type": "stream",
     "text": [
      "uoiea\n"
     ]
    }
   ],
   "source": [
    "#question 9x - reverse an array in place in java\n",
    "\n",
    "list1 = ['a','e','i','o','u']\n",
    "rev = ''\n",
    "for i in list1:\n",
    "    rev = i + rev\n",
    "print(rev)    "
   ]
  },
  {
   "cell_type": "code",
   "execution_count": 10,
   "id": "816b5b29",
   "metadata": {},
   "outputs": [
    {
     "name": "stdout",
     "output_type": "stream",
     "text": [
      "5\n"
     ]
    }
   ],
   "source": [
    "#question 10 - remove duplicates from array without using functions\n",
    "\n",
    "list1 = [1,5,3,6,5,4]\n",
    "result = []\n",
    "for i in list1:\n",
    "    if i not in result:\n",
    "        result.append(i)\n",
    "    else:\n",
    "        print(i)"
   ]
  },
  {
   "cell_type": "code",
   "execution_count": 90,
   "id": "36e8db50",
   "metadata": {},
   "outputs": [
    {
     "name": "stdout",
     "output_type": "stream",
     "text": [
      "a\n"
     ]
    }
   ],
   "source": [
    "#question 11x - print duplicate char from a string\n",
    "\n",
    "str1 = 'aakash'\n",
    "\n",
    "for i in range(len(str1)):\n",
    "    count = 0\n",
    "    for j in range(len(str1)):\n",
    "        if str1[i]==str1[j]:\n",
    "            count+=1\n",
    "        if count > 1:\n",
    "            res = str1[i]\n",
    "print(res)\n",
    "            \n",
    "         \n",
    "\n",
    "\n"
   ]
  },
  {
   "cell_type": "code",
   "execution_count": 32,
   "id": "6ecf891a",
   "metadata": {},
   "outputs": [
    {
     "name": "stdout",
     "output_type": "stream",
     "text": [
      "the two string are anagram\n"
     ]
    }
   ],
   "source": [
    "#question 12 - anagram\n",
    "\n",
    "str1 = 'silent'\n",
    "str2 = 'listen'\n",
    "if (sorted(str1) == sorted(str2)):\n",
    "    print(\"the two string are anagram\")\n",
    "else:\n",
    "    print(\"the two string are not an anagram\")\n",
    "    \n",
    "    "
   ]
  },
  {
   "cell_type": "code",
   "execution_count": null,
   "id": "ec0bedd1",
   "metadata": {},
   "outputs": [],
   "source": [
    "#question 13x - print first non repeated char from a string\n",
    "\n"
   ]
  },
  {
   "cell_type": "code",
   "execution_count": 34,
   "id": "d4e197bd",
   "metadata": {},
   "outputs": [
    {
     "name": "stdout",
     "output_type": "stream",
     "text": [
      "hselika\n"
     ]
    }
   ],
   "source": [
    "#question 14 - rev of a string using recursion\n",
    "\n",
    "s = 'akilesh'\n",
    "rev = ''\n",
    "for i in s:\n",
    "    rev = i + rev\n",
    "print(rev)    "
   ]
  },
  {
   "cell_type": "code",
   "execution_count": 39,
   "id": "cd33a594",
   "metadata": {},
   "outputs": [
    {
     "name": "stdout",
     "output_type": "stream",
     "text": [
      "they are numeric\n"
     ]
    }
   ],
   "source": [
    "#question 15 - check if a string contains only digits\n",
    "\n",
    "s = '132447'\n",
    "if s.isnumeric():\n",
    "    print(\"they are numeric\")\n",
    "else:\n",
    "    print(\"they are not numeric\")"
   ]
  },
  {
   "cell_type": "code",
   "execution_count": 46,
   "id": "c61abcce",
   "metadata": {},
   "outputs": [
    {
     "name": "stdout",
     "output_type": "stream",
     "text": [
      "there is a match\n",
      "o\n"
     ]
    }
   ],
   "source": [
    "#question 16 - dups in a string\n",
    "\n",
    "s = 'cook'\n",
    "for i in range(len(s)-1):\n",
    "        if s[i] == s[i+1]:\n",
    "            print('there is a match')\n",
    "            print(s[i])\n",
    "   "
   ]
  },
  {
   "cell_type": "code",
   "execution_count": 49,
   "id": "96a217ec",
   "metadata": {},
   "outputs": [
    {
     "name": "stdout",
     "output_type": "stream",
     "text": [
      "no of vowels : 3\n",
      "no of constants : 4\n"
     ]
    }
   ],
   "source": [
    "#question 17 - count the number of vowels and consonants\n",
    "\n",
    "s = 'akilesh'\n",
    "vowels = 'aeiou'\n",
    "count = 0\n",
    "for i in s:\n",
    "    for j in vowels:\n",
    "        if i==j:\n",
    "            count +=1\n",
    "print(\"no of vowels :\",count)   \n",
    "print(\"no of constants :\", len(s)-count)"
   ]
  },
  {
   "cell_type": "code",
   "execution_count": 62,
   "id": "1123ccd9",
   "metadata": {},
   "outputs": [
    {
     "name": "stdout",
     "output_type": "stream",
     "text": [
      "a 2\n"
     ]
    }
   ],
   "source": [
    "#question 18 - occurance of a given char in a string\n",
    "\n",
    "str1 = 'leviathan'\n",
    "char = 'a'\n",
    "count = 0\n",
    "for i in range(len(str1)):\n",
    "    if str1[i]== char:\n",
    "        count += 1\n",
    "print(char,count)        \n",
    "\n"
   ]
  },
  {
   "cell_type": "code",
   "execution_count": 91,
   "id": "cb3a00ae",
   "metadata": {},
   "outputs": [
    {
     "name": "stdout",
     "output_type": "stream",
     "text": [
      "a\n",
      "k\n",
      "i\n",
      "l\n",
      "e\n",
      "s\n",
      "h\n"
     ]
    }
   ],
   "source": [
    "#question 19x - permutation of a string\n",
    "\n",
    "s = 'akilesh'\n",
    "for i in s:\n",
    "    for \n",
    "    print(i)"
   ]
  },
  {
   "cell_type": "code",
   "execution_count": 2,
   "id": "4741eb8b",
   "metadata": {},
   "outputs": [
    {
     "name": "stdout",
     "output_type": "stream",
     "text": [
      "doog os si eh\n"
     ]
    }
   ],
   "source": [
    "#question 20x - reversal of words in a sentence\n",
    "\n",
    "s = 'he is so good'\n",
    "n = s.split(\" \")\n",
    "rev = \"\"\n",
    "for i in s:\n",
    "    rev = i+rev\n",
    "print(rev)    \n"
   ]
  },
  {
   "cell_type": "code",
   "execution_count": null,
   "id": "213161e8",
   "metadata": {},
   "outputs": [],
   "source": [
    "#question 21x - strings rotation of each other \n",
    "\n"
   ]
  },
  {
   "cell_type": "code",
   "execution_count": 3,
   "id": "b3988f27",
   "metadata": {},
   "outputs": [
    {
     "name": "stdout",
     "output_type": "stream",
     "text": [
      "its a palindrome\n"
     ]
    }
   ],
   "source": [
    "#question 22 - palindrome\n",
    "\n",
    "s = \"malayalam\"\n",
    "slice = s[::-1]\n",
    "if s == slice:\n",
    "    print('its a palindrome')\n",
    "else:\n",
    "    print('its not a plaindrome')"
   ]
  },
  {
   "cell_type": "code",
   "execution_count": 4,
   "id": "004ea306",
   "metadata": {},
   "outputs": [],
   "source": [
    "#question 23x - implementation of binary search tree\n",
    "\n",
    "class bs_tree():\n",
    "    def __init__(self,data):\n",
    "        self.data = data\n",
    "        self.leftchild = leftchild\n",
    "        self.rightchild = rightchild\n",
    "    \n",
    "    def insert(self,root,value):\n",
    "        if root == None:\n",
    "            root = bs_tree(value)\n",
    "        if value > root.data:\n",
    "            root.rightchild = insert(root.rightchild,value)\n",
    "        else:\n",
    "            root.legtchile = insert(root.leftchild,value)\n",
    "            "
   ]
  },
  {
   "cell_type": "code",
   "execution_count": 80,
   "id": "148ab387",
   "metadata": {},
   "outputs": [
    {
     "name": "stdout",
     "output_type": "stream",
     "text": [
      "enter the product namejuice\n",
      "enter the product number23\n",
      "juice\n",
      "thanks for the purchase\n"
     ]
    }
   ],
   "source": [
    "#question 34x - vending machine\n",
    "\n",
    "class vending_machine:\n",
    "    def __init__(self,product,number):\n",
    "        self.product = product\n",
    "        self.number = number\n",
    "    def thank(self):\n",
    "        return \"thanks for the purchase\"\n",
    "        \n",
    "product = input(\"enter the product name\")\n",
    "number = int(input(\"enter the product number\"))\n",
    "v1 = vending_machine(product,number)\n",
    "print(v1.thank())\n",
    "\n",
    "    "
   ]
  },
  {
   "cell_type": "code",
   "execution_count": 73,
   "id": "4e7fd3ec",
   "metadata": {},
   "outputs": [
    {
     "name": "stdout",
     "output_type": "stream",
     "text": [
      "7 6\n"
     ]
    }
   ],
   "source": [
    "#question 35 - swap two numbers without using third variable\n",
    "\n",
    "a = 6\n",
    "b = 7\n",
    "sum = a+b\n",
    "swa_a = sum - a\n",
    "swa_b = sum - b\n",
    "print(swa_a,swa_b)"
   ]
  },
  {
   "cell_type": "code",
   "execution_count": null,
   "id": "ee6c7acd",
   "metadata": {},
   "outputs": [],
   "source": [
    "#question 36 - "
   ]
  },
  {
   "cell_type": "code",
   "execution_count": 70,
   "id": "b7cb1cbc",
   "metadata": {},
   "outputs": [
    {
     "name": "stdout",
     "output_type": "stream",
     "text": [
      "k\n"
     ]
    }
   ],
   "source": [
    "#question 37\n",
    "\n",
    "n = 'akilash'\n",
    "list = []\n",
    "for i in range(len(n)):\n",
    "    count = 0\n",
    "    for j in range(len(n)):\n",
    "        if n[j]==n[i]:\n",
    "            count +=1\n",
    "        if count < 1:\n",
    "            list.append(n[i])\n",
    "            break\n",
    "print(list[0])\n",
    "\n",
    "\n",
    "\n"
   ]
  },
  {
   "cell_type": "code",
   "execution_count": 20,
   "id": "387c8611",
   "metadata": {},
   "outputs": [
    {
     "name": "stdout",
     "output_type": "stream",
     "text": [
      "[1, 4, 3, 7, 5, 8]\n"
     ]
    }
   ],
   "source": [
    "#question 38 - duplicates\n",
    "\n",
    "a = [1,4,3,7,5,4,7,8,5,3]\n",
    "a2 = []\n",
    "for i in a:\n",
    "    if i not in a2:\n",
    "        a2.append(i)\n",
    "print(a2)        \n"
   ]
  },
  {
   "cell_type": "code",
   "execution_count": 17,
   "id": "4c06c7ba",
   "metadata": {},
   "outputs": [
    {
     "name": "stdout",
     "output_type": "stream",
     "text": [
      "12\n",
      "its not a prime number\n"
     ]
    }
   ],
   "source": [
    "#question 39 - prime no or not\n",
    "\n",
    "n = int(input())\n",
    "flag = False\n",
    "if n>1:\n",
    "\n",
    "    for i in range(2,n):\n",
    "        if n%i == 0:\n",
    "            flag = True\n",
    "            break\n",
    "\n",
    "if flag:\n",
    "    print(\"its not a prime number\")\n",
    "else:\n",
    "    print('its a prime number')\n",
    "            \n"
   ]
  },
  {
   "cell_type": "code",
   "execution_count": 8,
   "id": "87b606fc",
   "metadata": {},
   "outputs": [
    {
     "name": "stdout",
     "output_type": "stream",
     "text": [
      "enter somethingak3\n",
      "it contains only char or a combination of both\n"
     ]
    }
   ],
   "source": [
    "#question 40 - string only contain digits?\n",
    "\n",
    "n = input(\"enter something\")\n",
    "if n.isnumeric():\n",
    "    print(\"it contains only digits\")\n",
    "else:\n",
    "    print('it contains only char or a combination of both')"
   ]
  }
 ],
 "metadata": {
  "kernelspec": {
   "display_name": "Python 3 (ipykernel)",
   "language": "python",
   "name": "python3"
  },
  "language_info": {
   "codemirror_mode": {
    "name": "ipython",
    "version": 3
   },
   "file_extension": ".py",
   "mimetype": "text/x-python",
   "name": "python",
   "nbconvert_exporter": "python",
   "pygments_lexer": "ipython3",
   "version": "3.10.7"
  }
 },
 "nbformat": 4,
 "nbformat_minor": 5
}
